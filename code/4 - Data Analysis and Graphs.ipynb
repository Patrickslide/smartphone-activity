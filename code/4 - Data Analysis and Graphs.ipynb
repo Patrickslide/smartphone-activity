{
 "cells": [
  {
   "cell_type": "code",
   "execution_count": 6,
   "id": "2998e5ed",
   "metadata": {},
   "outputs": [],
   "source": [
    "import matplotlib\n",
    "import matplotlib.pyplot as plt\n",
    "import numpy as np\n",
    "#from sklearn.linear_model import LogisticRegression\n",
    "#from sklearn.metrics import classification_report, confusion_matrix\n",
    "import pandas as pd\n",
    "from matplotlib import cm\n",
    "import seaborn as sns\n",
    "import sqlite3\n",
    "from datetime import datetime\n",
    "import squarify \n",
    "from scipy.stats import f_oneway"
   ]
  },
  {
   "cell_type": "code",
   "execution_count": null,
   "id": "504d0b43",
   "metadata": {},
   "outputs": [],
   "source": []
  },
  {
   "cell_type": "code",
   "execution_count": 2,
   "id": "dfefc30e",
   "metadata": {},
   "outputs": [
    {
     "data": {
      "text/html": [
       "<div>\n",
       "<style scoped>\n",
       "    .dataframe tbody tr th:only-of-type {\n",
       "        vertical-align: middle;\n",
       "    }\n",
       "\n",
       "    .dataframe tbody tr th {\n",
       "        vertical-align: top;\n",
       "    }\n",
       "\n",
       "    .dataframe thead th {\n",
       "        text-align: right;\n",
       "    }\n",
       "</style>\n",
       "<table border=\"1\" class=\"dataframe\">\n",
       "  <thead>\n",
       "    <tr style=\"text-align: right;\">\n",
       "      <th></th>\n",
       "      <th>userid</th>\n",
       "      <th>day</th>\n",
       "      <th>hour</th>\n",
       "      <th>minute</th>\n",
       "      <th>touch_screen_events</th>\n",
       "      <th>week</th>\n",
       "      <th>what</th>\n",
       "      <th>withw</th>\n",
       "      <th>Extraversion</th>\n",
       "      <th>Openness</th>\n",
       "      <th>Conscientiousness</th>\n",
       "      <th>Neuroticism</th>\n",
       "      <th>Agreeableness</th>\n",
       "      <th>gender</th>\n",
       "      <th>department</th>\n",
       "      <th>age</th>\n",
       "    </tr>\n",
       "  </thead>\n",
       "  <tbody>\n",
       "    <tr>\n",
       "      <th>0</th>\n",
       "      <td>1</td>\n",
       "      <td>20201113</td>\n",
       "      <td>0</td>\n",
       "      <td>0</td>\n",
       "      <td>58</td>\n",
       "      <td>Friday</td>\n",
       "      <td>Other</td>\n",
       "      <td>Alone</td>\n",
       "      <td>100.0</td>\n",
       "      <td>75.0</td>\n",
       "      <td>31.25</td>\n",
       "      <td>75.0</td>\n",
       "      <td>100.0</td>\n",
       "      <td>Female</td>\n",
       "      <td>Humanities</td>\n",
       "      <td>23</td>\n",
       "    </tr>\n",
       "    <tr>\n",
       "      <th>1</th>\n",
       "      <td>1</td>\n",
       "      <td>20201113</td>\n",
       "      <td>0</td>\n",
       "      <td>30</td>\n",
       "      <td>30</td>\n",
       "      <td>Friday</td>\n",
       "      <td>Other</td>\n",
       "      <td>Alone</td>\n",
       "      <td>100.0</td>\n",
       "      <td>75.0</td>\n",
       "      <td>31.25</td>\n",
       "      <td>75.0</td>\n",
       "      <td>100.0</td>\n",
       "      <td>Female</td>\n",
       "      <td>Humanities</td>\n",
       "      <td>23</td>\n",
       "    </tr>\n",
       "    <tr>\n",
       "      <th>2</th>\n",
       "      <td>1</td>\n",
       "      <td>20201113</td>\n",
       "      <td>8</td>\n",
       "      <td>0</td>\n",
       "      <td>9</td>\n",
       "      <td>Friday</td>\n",
       "      <td>Other</td>\n",
       "      <td>Alone</td>\n",
       "      <td>100.0</td>\n",
       "      <td>75.0</td>\n",
       "      <td>31.25</td>\n",
       "      <td>75.0</td>\n",
       "      <td>100.0</td>\n",
       "      <td>Female</td>\n",
       "      <td>Humanities</td>\n",
       "      <td>23</td>\n",
       "    </tr>\n",
       "    <tr>\n",
       "      <th>3</th>\n",
       "      <td>1</td>\n",
       "      <td>20201113</td>\n",
       "      <td>9</td>\n",
       "      <td>0</td>\n",
       "      <td>286</td>\n",
       "      <td>Friday</td>\n",
       "      <td>Eating</td>\n",
       "      <td>with_others</td>\n",
       "      <td>100.0</td>\n",
       "      <td>75.0</td>\n",
       "      <td>31.25</td>\n",
       "      <td>75.0</td>\n",
       "      <td>100.0</td>\n",
       "      <td>Female</td>\n",
       "      <td>Humanities</td>\n",
       "      <td>23</td>\n",
       "    </tr>\n",
       "    <tr>\n",
       "      <th>4</th>\n",
       "      <td>1</td>\n",
       "      <td>20201113</td>\n",
       "      <td>10</td>\n",
       "      <td>0</td>\n",
       "      <td>897</td>\n",
       "      <td>Friday</td>\n",
       "      <td>Work/Study</td>\n",
       "      <td>Alone</td>\n",
       "      <td>100.0</td>\n",
       "      <td>75.0</td>\n",
       "      <td>31.25</td>\n",
       "      <td>75.0</td>\n",
       "      <td>100.0</td>\n",
       "      <td>Female</td>\n",
       "      <td>Humanities</td>\n",
       "      <td>23</td>\n",
       "    </tr>\n",
       "  </tbody>\n",
       "</table>\n",
       "</div>"
      ],
      "text/plain": [
       "   userid       day  hour  minute  touch_screen_events    week        what  \\\n",
       "0       1  20201113     0       0                   58  Friday       Other   \n",
       "1       1  20201113     0      30                   30  Friday       Other   \n",
       "2       1  20201113     8       0                    9  Friday       Other   \n",
       "3       1  20201113     9       0                  286  Friday      Eating   \n",
       "4       1  20201113    10       0                  897  Friday  Work/Study   \n",
       "\n",
       "         withw  Extraversion  Openness  Conscientiousness  Neuroticism  \\\n",
       "0        Alone         100.0      75.0              31.25         75.0   \n",
       "1        Alone         100.0      75.0              31.25         75.0   \n",
       "2        Alone         100.0      75.0              31.25         75.0   \n",
       "3  with_others         100.0      75.0              31.25         75.0   \n",
       "4        Alone         100.0      75.0              31.25         75.0   \n",
       "\n",
       "   Agreeableness  gender  department age  \n",
       "0          100.0  Female  Humanities  23  \n",
       "1          100.0  Female  Humanities  23  \n",
       "2          100.0  Female  Humanities  23  \n",
       "3          100.0  Female  Humanities  23  \n",
       "4          100.0  Female  Humanities  23  "
      ]
     },
     "execution_count": 2,
     "metadata": {},
     "output_type": "execute_result"
    }
   ],
   "source": [
    "merged_data = pd.read_csv('merged_data.csv')\n",
    "merged_data.head()"
   ]
  },
  {
   "cell_type": "code",
   "execution_count": 3,
   "id": "6003c501",
   "metadata": {
    "scrolled": true
   },
   "outputs": [
    {
     "data": {
      "text/plain": [
       "189"
      ]
     },
     "execution_count": 3,
     "metadata": {},
     "output_type": "execute_result"
    }
   ],
   "source": [
    "len(merged_data.userid.unique())"
   ]
  },
  {
   "cell_type": "markdown",
   "id": "6a3e4232",
   "metadata": {},
   "source": [
    "I start the sql queries, using a new connector as the previous one stored an older version of merged_data."
   ]
  },
  {
   "cell_type": "code",
   "execution_count": 4,
   "id": "0ebe8368",
   "metadata": {},
   "outputs": [],
   "source": [
    "conn = sqlite3.connect('project_sdl_2.db')\n",
    "cur = conn.cursor()"
   ]
  },
  {
   "cell_type": "code",
   "execution_count": 5,
   "id": "d8980303",
   "metadata": {},
   "outputs": [
    {
     "ename": "ValueError",
     "evalue": "Table 'merged_data' already exists.",
     "output_type": "error",
     "traceback": [
      "\u001b[1;31m---------------------------------------------------------------------------\u001b[0m",
      "\u001b[1;31mValueError\u001b[0m                                Traceback (most recent call last)",
      "\u001b[1;32m<ipython-input-5-13ea26caff0b>\u001b[0m in \u001b[0;36m<module>\u001b[1;34m\u001b[0m\n\u001b[1;32m----> 1\u001b[1;33m \u001b[0mmerged_data\u001b[0m\u001b[1;33m.\u001b[0m\u001b[0mto_sql\u001b[0m\u001b[1;33m(\u001b[0m\u001b[1;34m'merged_data'\u001b[0m\u001b[1;33m,\u001b[0m \u001b[0mconn\u001b[0m\u001b[1;33m)\u001b[0m\u001b[1;33m\u001b[0m\u001b[1;33m\u001b[0m\u001b[0m\n\u001b[0m",
      "\u001b[1;32mC:\\ProgramData\\Anaconda3\\lib\\site-packages\\pandas\\core\\generic.py\u001b[0m in \u001b[0;36mto_sql\u001b[1;34m(self, name, con, schema, if_exists, index, index_label, chunksize, dtype, method)\u001b[0m\n\u001b[0;32m   2777\u001b[0m         \u001b[1;32mfrom\u001b[0m \u001b[0mpandas\u001b[0m\u001b[1;33m.\u001b[0m\u001b[0mio\u001b[0m \u001b[1;32mimport\u001b[0m \u001b[0msql\u001b[0m\u001b[1;33m\u001b[0m\u001b[1;33m\u001b[0m\u001b[0m\n\u001b[0;32m   2778\u001b[0m \u001b[1;33m\u001b[0m\u001b[0m\n\u001b[1;32m-> 2779\u001b[1;33m         sql.to_sql(\n\u001b[0m\u001b[0;32m   2780\u001b[0m             \u001b[0mself\u001b[0m\u001b[1;33m,\u001b[0m\u001b[1;33m\u001b[0m\u001b[1;33m\u001b[0m\u001b[0m\n\u001b[0;32m   2781\u001b[0m             \u001b[0mname\u001b[0m\u001b[1;33m,\u001b[0m\u001b[1;33m\u001b[0m\u001b[1;33m\u001b[0m\u001b[0m\n",
      "\u001b[1;32mC:\\ProgramData\\Anaconda3\\lib\\site-packages\\pandas\\io\\sql.py\u001b[0m in \u001b[0;36mto_sql\u001b[1;34m(frame, name, con, schema, if_exists, index, index_label, chunksize, dtype, method)\u001b[0m\n\u001b[0;32m    599\u001b[0m         )\n\u001b[0;32m    600\u001b[0m \u001b[1;33m\u001b[0m\u001b[0m\n\u001b[1;32m--> 601\u001b[1;33m     pandas_sql.to_sql(\n\u001b[0m\u001b[0;32m    602\u001b[0m         \u001b[0mframe\u001b[0m\u001b[1;33m,\u001b[0m\u001b[1;33m\u001b[0m\u001b[1;33m\u001b[0m\u001b[0m\n\u001b[0;32m    603\u001b[0m         \u001b[0mname\u001b[0m\u001b[1;33m,\u001b[0m\u001b[1;33m\u001b[0m\u001b[1;33m\u001b[0m\u001b[0m\n",
      "\u001b[1;32mC:\\ProgramData\\Anaconda3\\lib\\site-packages\\pandas\\io\\sql.py\u001b[0m in \u001b[0;36mto_sql\u001b[1;34m(self, frame, name, if_exists, index, index_label, schema, chunksize, dtype, method)\u001b[0m\n\u001b[0;32m   1869\u001b[0m             \u001b[0mdtype\u001b[0m\u001b[1;33m=\u001b[0m\u001b[0mdtype\u001b[0m\u001b[1;33m,\u001b[0m\u001b[1;33m\u001b[0m\u001b[1;33m\u001b[0m\u001b[0m\n\u001b[0;32m   1870\u001b[0m         )\n\u001b[1;32m-> 1871\u001b[1;33m         \u001b[0mtable\u001b[0m\u001b[1;33m.\u001b[0m\u001b[0mcreate\u001b[0m\u001b[1;33m(\u001b[0m\u001b[1;33m)\u001b[0m\u001b[1;33m\u001b[0m\u001b[1;33m\u001b[0m\u001b[0m\n\u001b[0m\u001b[0;32m   1872\u001b[0m         \u001b[0mtable\u001b[0m\u001b[1;33m.\u001b[0m\u001b[0minsert\u001b[0m\u001b[1;33m(\u001b[0m\u001b[0mchunksize\u001b[0m\u001b[1;33m,\u001b[0m \u001b[0mmethod\u001b[0m\u001b[1;33m)\u001b[0m\u001b[1;33m\u001b[0m\u001b[1;33m\u001b[0m\u001b[0m\n\u001b[0;32m   1873\u001b[0m \u001b[1;33m\u001b[0m\u001b[0m\n",
      "\u001b[1;32mC:\\ProgramData\\Anaconda3\\lib\\site-packages\\pandas\\io\\sql.py\u001b[0m in \u001b[0;36mcreate\u001b[1;34m(self)\u001b[0m\n\u001b[0;32m    736\u001b[0m         \u001b[1;32mif\u001b[0m \u001b[0mself\u001b[0m\u001b[1;33m.\u001b[0m\u001b[0mexists\u001b[0m\u001b[1;33m(\u001b[0m\u001b[1;33m)\u001b[0m\u001b[1;33m:\u001b[0m\u001b[1;33m\u001b[0m\u001b[1;33m\u001b[0m\u001b[0m\n\u001b[0;32m    737\u001b[0m             \u001b[1;32mif\u001b[0m \u001b[0mself\u001b[0m\u001b[1;33m.\u001b[0m\u001b[0mif_exists\u001b[0m \u001b[1;33m==\u001b[0m \u001b[1;34m\"fail\"\u001b[0m\u001b[1;33m:\u001b[0m\u001b[1;33m\u001b[0m\u001b[1;33m\u001b[0m\u001b[0m\n\u001b[1;32m--> 738\u001b[1;33m                 \u001b[1;32mraise\u001b[0m \u001b[0mValueError\u001b[0m\u001b[1;33m(\u001b[0m\u001b[1;34mf\"Table '{self.name}' already exists.\"\u001b[0m\u001b[1;33m)\u001b[0m\u001b[1;33m\u001b[0m\u001b[1;33m\u001b[0m\u001b[0m\n\u001b[0m\u001b[0;32m    739\u001b[0m             \u001b[1;32melif\u001b[0m \u001b[0mself\u001b[0m\u001b[1;33m.\u001b[0m\u001b[0mif_exists\u001b[0m \u001b[1;33m==\u001b[0m \u001b[1;34m\"replace\"\u001b[0m\u001b[1;33m:\u001b[0m\u001b[1;33m\u001b[0m\u001b[1;33m\u001b[0m\u001b[0m\n\u001b[0;32m    740\u001b[0m                 \u001b[0mself\u001b[0m\u001b[1;33m.\u001b[0m\u001b[0mpd_sql\u001b[0m\u001b[1;33m.\u001b[0m\u001b[0mdrop_table\u001b[0m\u001b[1;33m(\u001b[0m\u001b[0mself\u001b[0m\u001b[1;33m.\u001b[0m\u001b[0mname\u001b[0m\u001b[1;33m,\u001b[0m \u001b[0mself\u001b[0m\u001b[1;33m.\u001b[0m\u001b[0mschema\u001b[0m\u001b[1;33m)\u001b[0m\u001b[1;33m\u001b[0m\u001b[1;33m\u001b[0m\u001b[0m\n",
      "\u001b[1;31mValueError\u001b[0m: Table 'merged_data' already exists."
     ]
    }
   ],
   "source": [
    "merged_data.to_sql('merged_data', conn)"
   ]
  },
  {
   "cell_type": "code",
   "execution_count": 6,
   "id": "86ed2416",
   "metadata": {},
   "outputs": [],
   "source": [
    "%load_ext sql\n",
    "%sql sqlite:///project_sdl.db"
   ]
  },
  {
   "cell_type": "code",
   "execution_count": 7,
   "id": "88ad6a5a",
   "metadata": {},
   "outputs": [
    {
     "name": "stdout",
     "output_type": "stream",
     "text": [
      " * sqlite:///project_sdl.db\n"
     ]
    }
   ],
   "source": [
    "%sql\n",
    "cur.execute(\"SELECT hour, minute, AVG(touch_screen_events), COUNT(minute) FROM merged_data m GROUP BY m.hour, m.minute\")\n",
    "rows = cur.fetchall()"
   ]
  },
  {
   "cell_type": "markdown",
   "id": "f20aba41",
   "metadata": {},
   "source": [
    "Data is now summed up by the hour and minute, which enables me to showcase daily trends."
   ]
  },
  {
   "cell_type": "code",
   "execution_count": 8,
   "id": "a22979af",
   "metadata": {},
   "outputs": [],
   "source": [
    "touch_by_hour = pd.DataFrame(rows, columns =['hour', 'minute','avg_touch_screen_events', 'occurrences'])\n",
    "touch_by_hour['time'] = touch_by_hour['hour'].astype(str)+'.'+touch_by_hour['minute'].astype(str)"
   ]
  },
  {
   "cell_type": "code",
   "execution_count": 9,
   "id": "7b90ef2d",
   "metadata": {},
   "outputs": [],
   "source": [
    "touch_by_hour['time'] =  touch_by_hour['time'].astype(float)\n",
    "x =touch_by_hour['time'] \n",
    "x2 = list()\n",
    "for j in x:\n",
    "    if int(j) != j:\n",
    "        j += 0.2\n",
    "        x2.append(j)\n",
    "    else:\n",
    "        x2.append(j)\n",
    "touch_by_hour['time_r'] = x2\n",
    "#Rescale occurrences.\n",
    "touch_by_hour['occurrences'] = (touch_by_hour['occurrences'] - min(touch_by_hour['occurrences'])) / (max(touch_by_hour['occurrences']) - min(touch_by_hour['occurrences']))\n",
    "touch_by_hour['weight'] = touch_by_hour.avg_touch_screen_events * touch_by_hour.occurrences \n",
    "touch_by_hour.to_csv('touch_by_hour.csv', index=False)"
   ]
  },
  {
   "cell_type": "code",
   "execution_count": 10,
   "id": "a3427d40",
   "metadata": {},
   "outputs": [
    {
     "data": {
      "text/html": [
       "<div>\n",
       "<style scoped>\n",
       "    .dataframe tbody tr th:only-of-type {\n",
       "        vertical-align: middle;\n",
       "    }\n",
       "\n",
       "    .dataframe tbody tr th {\n",
       "        vertical-align: top;\n",
       "    }\n",
       "\n",
       "    .dataframe thead th {\n",
       "        text-align: right;\n",
       "    }\n",
       "</style>\n",
       "<table border=\"1\" class=\"dataframe\">\n",
       "  <thead>\n",
       "    <tr style=\"text-align: right;\">\n",
       "      <th></th>\n",
       "      <th>hour</th>\n",
       "      <th>minute</th>\n",
       "      <th>avg_touch_screen_events</th>\n",
       "      <th>occurrences</th>\n",
       "      <th>time</th>\n",
       "      <th>time_r</th>\n",
       "      <th>weight</th>\n",
       "    </tr>\n",
       "  </thead>\n",
       "  <tbody>\n",
       "    <tr>\n",
       "      <th>0</th>\n",
       "      <td>0</td>\n",
       "      <td>0</td>\n",
       "      <td>248.071493</td>\n",
       "      <td>0.835637</td>\n",
       "      <td>0.0</td>\n",
       "      <td>0.0</td>\n",
       "      <td>207.297837</td>\n",
       "    </tr>\n",
       "    <tr>\n",
       "      <th>1</th>\n",
       "      <td>0</td>\n",
       "      <td>30</td>\n",
       "      <td>258.424051</td>\n",
       "      <td>0.527650</td>\n",
       "      <td>0.3</td>\n",
       "      <td>0.5</td>\n",
       "      <td>136.357391</td>\n",
       "    </tr>\n",
       "    <tr>\n",
       "      <th>2</th>\n",
       "      <td>1</td>\n",
       "      <td>0</td>\n",
       "      <td>235.650146</td>\n",
       "      <td>0.376728</td>\n",
       "      <td>1.0</td>\n",
       "      <td>1.0</td>\n",
       "      <td>88.776034</td>\n",
       "    </tr>\n",
       "    <tr>\n",
       "      <th>3</th>\n",
       "      <td>1</td>\n",
       "      <td>30</td>\n",
       "      <td>268.711304</td>\n",
       "      <td>0.202381</td>\n",
       "      <td>1.3</td>\n",
       "      <td>1.5</td>\n",
       "      <td>54.382050</td>\n",
       "    </tr>\n",
       "    <tr>\n",
       "      <th>4</th>\n",
       "      <td>2</td>\n",
       "      <td>0</td>\n",
       "      <td>242.204938</td>\n",
       "      <td>0.137097</td>\n",
       "      <td>2.0</td>\n",
       "      <td>2.0</td>\n",
       "      <td>33.205516</td>\n",
       "    </tr>\n",
       "  </tbody>\n",
       "</table>\n",
       "</div>"
      ],
      "text/plain": [
       "   hour  minute  avg_touch_screen_events  occurrences  time  time_r  \\\n",
       "0     0       0               248.071493     0.835637   0.0     0.0   \n",
       "1     0      30               258.424051     0.527650   0.3     0.5   \n",
       "2     1       0               235.650146     0.376728   1.0     1.0   \n",
       "3     1      30               268.711304     0.202381   1.3     1.5   \n",
       "4     2       0               242.204938     0.137097   2.0     2.0   \n",
       "\n",
       "       weight  \n",
       "0  207.297837  \n",
       "1  136.357391  \n",
       "2   88.776034  \n",
       "3   54.382050  \n",
       "4   33.205516  "
      ]
     },
     "execution_count": 10,
     "metadata": {},
     "output_type": "execute_result"
    }
   ],
   "source": [
    "touch_by_hour.head()"
   ]
  },
  {
   "cell_type": "code",
   "execution_count": 11,
   "id": "d258e020",
   "metadata": {},
   "outputs": [],
   "source": [
    "touch_by_hour = pd.read_csv('touch_by_hour.csv')"
   ]
  },
  {
   "cell_type": "markdown",
   "id": "6dcc88d3",
   "metadata": {},
   "source": [
    "Now we that our data has the appropriate format it's time for plots."
   ]
  },
  {
   "cell_type": "code",
   "execution_count": 12,
   "id": "b0338aa0",
   "metadata": {},
   "outputs": [
    {
     "data": {
      "image/png": "[encoded data removed]",
      "text/plain": [
       "<Figure size 504x504 with 1 Axes>"
      ]
     },
     "metadata": {
      "needs_background": "light"
     },
     "output_type": "display_data"
    }
   ],
   "source": [
    "my_cmap = plt.get_cmap(\"RdYlGn\")\n",
    "x = touch_by_hour['time_r']\n",
    "y = touch_by_hour['weight']\n",
    "rescale = lambda y: (y - np.min(y)) / (np.max(y) - np.min(y))\n",
    "fig = plt.figure(figsize=(7,7))\n",
    "ax = plt.subplot(111, projection = 'polar')\n",
    "\n",
    "ax.bar(x, y, width = 0.1, alpha=0.8, color=my_cmap(rescale(y)))\n",
    "\n",
    "ax.set_theta_direction(-1)\n",
    "ax.set_theta_offset(np.pi/2)\n",
    "\n",
    "ax.set_xticks(np.linspace(0, 2*np.pi, 24, endpoint=False))\n",
    "\n",
    "ticks = ['12 AM', '1 AM', '2 AM', '3 AM', '4 AM', '5 AM', '6 AM', '7 AM','8 AM','9 AM','10 AM','11 AM','12 PM', '1 PM', '2 PM', '3 PM', '4 PM',  '5 PM', '6 PM', '7 PM', '8 PM', '9 PM', '10 PM', '11 PM' ]\n",
    "ax.set_xticklabels(ticks)\n",
    "\n",
    "plt.setp(ax.get_yticklabels(), visible=False)\n",
    "\n",
    "plt.ylim(0,max(touch_by_hour['weight']))\n",
    "plt.title('Touch by Hour')\n",
    "#plt.legend(bbox_to_anchor=(1,0), fancybox=True, shadow=True)\n",
    "plt.show()"
   ]
  },
  {
   "cell_type": "code",
   "execution_count": 13,
   "id": "f0f3b572",
   "metadata": {},
   "outputs": [
    {
     "data": {
      "image/png": "[encoded data removed]",
      "text/plain": [
       "<Figure size 576x360 with 1 Axes>"
      ]
     },
     "metadata": {
      "needs_background": "light"
     },
     "output_type": "display_data"
    }
   ],
   "source": [
    "x= touch_by_hour['time_r']\n",
    "y = touch_by_hour['weight']\n",
    "\n",
    "plt.figure(figsize=(8,5))\n",
    "labels = x\n",
    "plt.scatter(x,y, c=cm.cool(y/y.max()), edgecolor='none')\n",
    "plt.plot(x,y, c='black', linewidth=0.5, label=touch_by_hour['time'])\n",
    "#plt.xticks(np.arange(6), ['12 AM', '4 AM', '8 AM', '12 PM', '4 PM', '8 PM'])\n",
    "\n",
    "plt.title('Touch Screen Events by clock time')\n",
    "plt.show()"
   ]
  },
  {
   "cell_type": "markdown",
   "id": "db8b6821",
   "metadata": {},
   "source": [
    "I want to see if there are any weekly trends as well. This requires a new SQL queries which discriminates data by the weekday."
   ]
  },
  {
   "cell_type": "markdown",
   "id": "8629932e",
   "metadata": {},
   "source": [
    "!!! REPEAT BUT START BY 7 AM!!"
   ]
  },
  {
   "cell_type": "code",
   "execution_count": 14,
   "id": "de849616",
   "metadata": {},
   "outputs": [
    {
     "name": "stdout",
     "output_type": "stream",
     "text": [
      " * sqlite:///project_sdl.db\n"
     ]
    }
   ],
   "source": [
    "%sql\n",
    "cur.execute(\"SELECT week, hour, minute, AVG(touch_screen_events), COUNT(minute) FROM merged_data m GROUP BY m.hour, m.minute, m.week\")\n",
    "rows2 = cur.fetchall()"
   ]
  },
  {
   "cell_type": "code",
   "execution_count": 15,
   "id": "34e762a8",
   "metadata": {},
   "outputs": [
    {
     "data": {
      "text/html": [
       "<div>\n",
       "<style scoped>\n",
       "    .dataframe tbody tr th:only-of-type {\n",
       "        vertical-align: middle;\n",
       "    }\n",
       "\n",
       "    .dataframe tbody tr th {\n",
       "        vertical-align: top;\n",
       "    }\n",
       "\n",
       "    .dataframe thead th {\n",
       "        text-align: right;\n",
       "    }\n",
       "</style>\n",
       "<table border=\"1\" class=\"dataframe\">\n",
       "  <thead>\n",
       "    <tr style=\"text-align: right;\">\n",
       "      <th></th>\n",
       "      <th>Weekday</th>\n",
       "      <th>hour</th>\n",
       "      <th>minute</th>\n",
       "      <th>avg_touch_screen_events</th>\n",
       "      <th>occurrences</th>\n",
       "      <th>time</th>\n",
       "      <th>time_r</th>\n",
       "      <th>weight</th>\n",
       "      <th>sort</th>\n",
       "    </tr>\n",
       "  </thead>\n",
       "  <tbody>\n",
       "    <tr>\n",
       "      <th>1</th>\n",
       "      <td>Monday</td>\n",
       "      <td>0</td>\n",
       "      <td>0</td>\n",
       "      <td>259.198758</td>\n",
       "      <td>0.679406</td>\n",
       "      <td>0.0</td>\n",
       "      <td>0.0</td>\n",
       "      <td>176.101067</td>\n",
       "      <td>Monday</td>\n",
       "    </tr>\n",
       "    <tr>\n",
       "      <th>8</th>\n",
       "      <td>Monday</td>\n",
       "      <td>0</td>\n",
       "      <td>30</td>\n",
       "      <td>215.633540</td>\n",
       "      <td>0.337580</td>\n",
       "      <td>0.3</td>\n",
       "      <td>0.5</td>\n",
       "      <td>72.793488</td>\n",
       "      <td>Monday</td>\n",
       "    </tr>\n",
       "    <tr>\n",
       "      <th>15</th>\n",
       "      <td>Monday</td>\n",
       "      <td>1</td>\n",
       "      <td>0</td>\n",
       "      <td>287.342657</td>\n",
       "      <td>0.299363</td>\n",
       "      <td>1.0</td>\n",
       "      <td>1.0</td>\n",
       "      <td>86.019776</td>\n",
       "      <td>Monday</td>\n",
       "    </tr>\n",
       "    <tr>\n",
       "      <th>22</th>\n",
       "      <td>Monday</td>\n",
       "      <td>1</td>\n",
       "      <td>30</td>\n",
       "      <td>302.612903</td>\n",
       "      <td>0.127389</td>\n",
       "      <td>1.3</td>\n",
       "      <td>1.5</td>\n",
       "      <td>38.549414</td>\n",
       "      <td>Monday</td>\n",
       "    </tr>\n",
       "    <tr>\n",
       "      <th>29</th>\n",
       "      <td>Monday</td>\n",
       "      <td>2</td>\n",
       "      <td>0</td>\n",
       "      <td>257.285714</td>\n",
       "      <td>0.084926</td>\n",
       "      <td>2.0</td>\n",
       "      <td>2.0</td>\n",
       "      <td>21.850167</td>\n",
       "      <td>Monday</td>\n",
       "    </tr>\n",
       "  </tbody>\n",
       "</table>\n",
       "</div>"
      ],
      "text/plain": [
       "   Weekday  hour  minute  avg_touch_screen_events  occurrences  time  time_r  \\\n",
       "1   Monday     0       0               259.198758     0.679406   0.0     0.0   \n",
       "8   Monday     0      30               215.633540     0.337580   0.3     0.5   \n",
       "15  Monday     1       0               287.342657     0.299363   1.0     1.0   \n",
       "22  Monday     1      30               302.612903     0.127389   1.3     1.5   \n",
       "29  Monday     2       0               257.285714     0.084926   2.0     2.0   \n",
       "\n",
       "        weight    sort  \n",
       "1   176.101067  Monday  \n",
       "8    72.793488  Monday  \n",
       "15   86.019776  Monday  \n",
       "22   38.549414  Monday  \n",
       "29   21.850167  Monday  "
      ]
     },
     "execution_count": 15,
     "metadata": {},
     "output_type": "execute_result"
    }
   ],
   "source": [
    "touch_by_hour_week = pd.DataFrame(rows2, columns =['Weekday', 'hour','minute','avg_touch_screen_events', 'occurrences'])\n",
    "touch_by_hour_week['time']=touch_by_hour_week['hour'].astype(str)+'.'+touch_by_hour_week['minute'].astype(str)\n",
    "\n",
    "touch_by_hour_week['time'] =  touch_by_hour_week['time'].astype(float)\n",
    "x =touch_by_hour_week['time'] \n",
    "x2 = list()\n",
    "for j in x:\n",
    "    if int(j) != j:\n",
    "        j += 0.2\n",
    "        x2.append(j)\n",
    "    else:\n",
    "        x2.append(j)\n",
    "touch_by_hour_week['time_r'] = x2\n",
    "\n",
    "#Again, rescaled.\n",
    "touch_by_hour_week['occurrences'] = (touch_by_hour_week['occurrences'] - min(touch_by_hour_week['occurrences'])) / (max(touch_by_hour_week['occurrences']) - min(touch_by_hour_week['occurrences']))\n",
    "touch_by_hour_week['weight'] = touch_by_hour_week.avg_touch_screen_events * touch_by_hour_week.occurrences \n",
    "o = pd.CategoricalDtype(categories=['Monday', 'Tuesday', 'Wednesday', 'Thursday','Friday','Saturday', 'Sunday'],ordered=True)\n",
    "touch_by_hour_week['sort']=pd.Series(touch_by_hour_week.Weekday, dtype=o)\n",
    "touch_by_hour_week.sort_values(by=['sort','time_r'],inplace=True)\n",
    "touch_by_hour_week.head()"
   ]
  },
  {
   "cell_type": "code",
   "execution_count": 16,
   "id": "ba83551b",
   "metadata": {},
   "outputs": [],
   "source": [
    "touch_by_hour_week.to_csv('touch_by_hour_week.csv', index=False)"
   ]
  },
  {
   "cell_type": "code",
   "execution_count": 17,
   "id": "f31af38a",
   "metadata": {},
   "outputs": [
    {
     "data": {
      "text/plain": [
       "['Monday', 'Tuesday', 'Wednesday', 'Thursday', 'Friday', 'Saturday', 'Sunday']"
      ]
     },
     "execution_count": 17,
     "metadata": {},
     "output_type": "execute_result"
    }
   ],
   "source": [
    "days = list(touch_by_hour_week.Weekday.unique())\n",
    "days"
   ]
  },
  {
   "cell_type": "code",
   "execution_count": 18,
   "id": "eadc4bf1",
   "metadata": {},
   "outputs": [
    {
     "data": {
      "text/html": [
       "<div>\n",
       "<style scoped>\n",
       "    .dataframe tbody tr th:only-of-type {\n",
       "        vertical-align: middle;\n",
       "    }\n",
       "\n",
       "    .dataframe tbody tr th {\n",
       "        vertical-align: top;\n",
       "    }\n",
       "\n",
       "    .dataframe thead th {\n",
       "        text-align: right;\n",
       "    }\n",
       "</style>\n",
       "<table border=\"1\" class=\"dataframe\">\n",
       "  <thead>\n",
       "    <tr style=\"text-align: right;\">\n",
       "      <th></th>\n",
       "      <th>Weekday</th>\n",
       "      <th>hour</th>\n",
       "      <th>minute</th>\n",
       "      <th>avg_touch_screen_events</th>\n",
       "      <th>occurrences</th>\n",
       "      <th>time</th>\n",
       "      <th>time_r</th>\n",
       "      <th>weight</th>\n",
       "      <th>sort</th>\n",
       "    </tr>\n",
       "  </thead>\n",
       "  <tbody>\n",
       "    <tr>\n",
       "      <th>1</th>\n",
       "      <td>Monday</td>\n",
       "      <td>0</td>\n",
       "      <td>0</td>\n",
       "      <td>259.198758</td>\n",
       "      <td>0.679406</td>\n",
       "      <td>0.0</td>\n",
       "      <td>0.0</td>\n",
       "      <td>176.101067</td>\n",
       "      <td>Monday</td>\n",
       "    </tr>\n",
       "    <tr>\n",
       "      <th>8</th>\n",
       "      <td>Monday</td>\n",
       "      <td>0</td>\n",
       "      <td>30</td>\n",
       "      <td>215.633540</td>\n",
       "      <td>0.337580</td>\n",
       "      <td>0.3</td>\n",
       "      <td>0.5</td>\n",
       "      <td>72.793488</td>\n",
       "      <td>Monday</td>\n",
       "    </tr>\n",
       "    <tr>\n",
       "      <th>15</th>\n",
       "      <td>Monday</td>\n",
       "      <td>1</td>\n",
       "      <td>0</td>\n",
       "      <td>287.342657</td>\n",
       "      <td>0.299363</td>\n",
       "      <td>1.0</td>\n",
       "      <td>1.0</td>\n",
       "      <td>86.019776</td>\n",
       "      <td>Monday</td>\n",
       "    </tr>\n",
       "    <tr>\n",
       "      <th>22</th>\n",
       "      <td>Monday</td>\n",
       "      <td>1</td>\n",
       "      <td>30</td>\n",
       "      <td>302.612903</td>\n",
       "      <td>0.127389</td>\n",
       "      <td>1.3</td>\n",
       "      <td>1.5</td>\n",
       "      <td>38.549414</td>\n",
       "      <td>Monday</td>\n",
       "    </tr>\n",
       "    <tr>\n",
       "      <th>29</th>\n",
       "      <td>Monday</td>\n",
       "      <td>2</td>\n",
       "      <td>0</td>\n",
       "      <td>257.285714</td>\n",
       "      <td>0.084926</td>\n",
       "      <td>2.0</td>\n",
       "      <td>2.0</td>\n",
       "      <td>21.850167</td>\n",
       "      <td>Monday</td>\n",
       "    </tr>\n",
       "    <tr>\n",
       "      <th>...</th>\n",
       "      <td>...</td>\n",
       "      <td>...</td>\n",
       "      <td>...</td>\n",
       "      <td>...</td>\n",
       "      <td>...</td>\n",
       "      <td>...</td>\n",
       "      <td>...</td>\n",
       "      <td>...</td>\n",
       "      <td>...</td>\n",
       "    </tr>\n",
       "    <tr>\n",
       "      <th>304</th>\n",
       "      <td>Sunday</td>\n",
       "      <td>21</td>\n",
       "      <td>30</td>\n",
       "      <td>210.585670</td>\n",
       "      <td>0.677282</td>\n",
       "      <td>21.3</td>\n",
       "      <td>21.5</td>\n",
       "      <td>142.625963</td>\n",
       "      <td>Sunday</td>\n",
       "    </tr>\n",
       "    <tr>\n",
       "      <th>311</th>\n",
       "      <td>Sunday</td>\n",
       "      <td>22</td>\n",
       "      <td>0</td>\n",
       "      <td>288.889952</td>\n",
       "      <td>0.883227</td>\n",
       "      <td>22.0</td>\n",
       "      <td>22.0</td>\n",
       "      <td>255.155457</td>\n",
       "      <td>Sunday</td>\n",
       "    </tr>\n",
       "    <tr>\n",
       "      <th>318</th>\n",
       "      <td>Sunday</td>\n",
       "      <td>22</td>\n",
       "      <td>30</td>\n",
       "      <td>249.623494</td>\n",
       "      <td>0.700637</td>\n",
       "      <td>22.3</td>\n",
       "      <td>22.5</td>\n",
       "      <td>174.895442</td>\n",
       "      <td>Sunday</td>\n",
       "    </tr>\n",
       "    <tr>\n",
       "      <th>325</th>\n",
       "      <td>Sunday</td>\n",
       "      <td>23</td>\n",
       "      <td>0</td>\n",
       "      <td>239.027950</td>\n",
       "      <td>0.679406</td>\n",
       "      <td>23.0</td>\n",
       "      <td>23.0</td>\n",
       "      <td>162.396909</td>\n",
       "      <td>Sunday</td>\n",
       "    </tr>\n",
       "    <tr>\n",
       "      <th>332</th>\n",
       "      <td>Sunday</td>\n",
       "      <td>23</td>\n",
       "      <td>30</td>\n",
       "      <td>273.813333</td>\n",
       "      <td>0.632696</td>\n",
       "      <td>23.3</td>\n",
       "      <td>23.5</td>\n",
       "      <td>173.240708</td>\n",
       "      <td>Sunday</td>\n",
       "    </tr>\n",
       "  </tbody>\n",
       "</table>\n",
       "<p>336 rows × 9 columns</p>\n",
       "</div>"
      ],
      "text/plain": [
       "    Weekday  hour  minute  avg_touch_screen_events  occurrences  time  time_r  \\\n",
       "1    Monday     0       0               259.198758     0.679406   0.0     0.0   \n",
       "8    Monday     0      30               215.633540     0.337580   0.3     0.5   \n",
       "15   Monday     1       0               287.342657     0.299363   1.0     1.0   \n",
       "22   Monday     1      30               302.612903     0.127389   1.3     1.5   \n",
       "29   Monday     2       0               257.285714     0.084926   2.0     2.0   \n",
       "..      ...   ...     ...                      ...          ...   ...     ...   \n",
       "304  Sunday    21      30               210.585670     0.677282  21.3    21.5   \n",
       "311  Sunday    22       0               288.889952     0.883227  22.0    22.0   \n",
       "318  Sunday    22      30               249.623494     0.700637  22.3    22.5   \n",
       "325  Sunday    23       0               239.027950     0.679406  23.0    23.0   \n",
       "332  Sunday    23      30               273.813333     0.632696  23.3    23.5   \n",
       "\n",
       "         weight    sort  \n",
       "1    176.101067  Monday  \n",
       "8     72.793488  Monday  \n",
       "15    86.019776  Monday  \n",
       "22    38.549414  Monday  \n",
       "29    21.850167  Monday  \n",
       "..          ...     ...  \n",
       "304  142.625963  Sunday  \n",
       "311  255.155457  Sunday  \n",
       "318  174.895442  Sunday  \n",
       "325  162.396909  Sunday  \n",
       "332  173.240708  Sunday  \n",
       "\n",
       "[336 rows x 9 columns]"
      ]
     },
     "execution_count": 18,
     "metadata": {},
     "output_type": "execute_result"
    }
   ],
   "source": [
    "touch_by_hour_week"
   ]
  },
  {
   "cell_type": "code",
   "execution_count": 19,
   "id": "81a6022f",
   "metadata": {},
   "outputs": [
    {
     "data": {
      "image/png": "[encoded data removed]",
      "text/plain": [
       "<Figure size 936x1080 with 7 Axes>"
      ]
     },
     "metadata": {
      "needs_background": "light"
     },
     "output_type": "display_data"
    }
   ],
   "source": [
    "plt.rcParams[\"figure.figsize\"] = (13,15)\n",
    "\n",
    "fig, axs = plt.subplots(7, sharex=True, sharey=True)\n",
    "i = 0\n",
    "\n",
    "fig.suptitle('Average touch Screen Events by Weekday')\n",
    "for j in days:\n",
    "    day_data = touch_by_hour_week[touch_by_hour_week.Weekday==j]\n",
    "    x= day_data['time_r']\n",
    "    y= day_data['weight']\n",
    "    axs[i].scatter(x,y, c=cm.RdYlGn(y/y.max()), edgecolor='none')\n",
    "    axs[i].plot(x,y, c='black', linewidth=0.5)\n",
    "    axs[i].set_title(j)\n",
    "    #plt.locator_params(axis='x', nbins=10)\n",
    "    i+=1\n",
    "\n",
    "fig.tight_layout()\n",
    "plt.savefig(\"daily_trends.jpg\") \n",
    "plt.show()"
   ]
  },
  {
   "cell_type": "code",
   "execution_count": 29,
   "id": "548ce433",
   "metadata": {},
   "outputs": [
    {
     "data": {
      "text/html": [
       "<div>\n",
       "<style scoped>\n",
       "    .dataframe tbody tr th:only-of-type {\n",
       "        vertical-align: middle;\n",
       "    }\n",
       "\n",
       "    .dataframe tbody tr th {\n",
       "        vertical-align: top;\n",
       "    }\n",
       "\n",
       "    .dataframe thead th {\n",
       "        text-align: right;\n",
       "    }\n",
       "</style>\n",
       "<table border=\"1\" class=\"dataframe\">\n",
       "  <thead>\n",
       "    <tr style=\"text-align: right;\">\n",
       "      <th></th>\n",
       "      <th>userid</th>\n",
       "      <th>day</th>\n",
       "      <th>hour</th>\n",
       "      <th>minute</th>\n",
       "      <th>touch_screen_events</th>\n",
       "      <th>week</th>\n",
       "      <th>what</th>\n",
       "      <th>withw</th>\n",
       "      <th>Extraversion</th>\n",
       "      <th>Openness</th>\n",
       "      <th>Conscientiousness</th>\n",
       "      <th>Neuroticism</th>\n",
       "      <th>Agreeableness</th>\n",
       "      <th>gender</th>\n",
       "      <th>department</th>\n",
       "      <th>age</th>\n",
       "    </tr>\n",
       "  </thead>\n",
       "  <tbody>\n",
       "    <tr>\n",
       "      <th>0</th>\n",
       "      <td>1</td>\n",
       "      <td>20201113</td>\n",
       "      <td>0</td>\n",
       "      <td>0</td>\n",
       "      <td>58</td>\n",
       "      <td>Friday</td>\n",
       "      <td>Other</td>\n",
       "      <td>Alone</td>\n",
       "      <td>100.0</td>\n",
       "      <td>75.0</td>\n",
       "      <td>31.25</td>\n",
       "      <td>75.0</td>\n",
       "      <td>100.0</td>\n",
       "      <td>Female</td>\n",
       "      <td>Humanities</td>\n",
       "      <td>23</td>\n",
       "    </tr>\n",
       "    <tr>\n",
       "      <th>1</th>\n",
       "      <td>1</td>\n",
       "      <td>20201113</td>\n",
       "      <td>0</td>\n",
       "      <td>30</td>\n",
       "      <td>30</td>\n",
       "      <td>Friday</td>\n",
       "      <td>Other</td>\n",
       "      <td>Alone</td>\n",
       "      <td>100.0</td>\n",
       "      <td>75.0</td>\n",
       "      <td>31.25</td>\n",
       "      <td>75.0</td>\n",
       "      <td>100.0</td>\n",
       "      <td>Female</td>\n",
       "      <td>Humanities</td>\n",
       "      <td>23</td>\n",
       "    </tr>\n",
       "    <tr>\n",
       "      <th>2</th>\n",
       "      <td>1</td>\n",
       "      <td>20201113</td>\n",
       "      <td>8</td>\n",
       "      <td>0</td>\n",
       "      <td>9</td>\n",
       "      <td>Friday</td>\n",
       "      <td>Other</td>\n",
       "      <td>Alone</td>\n",
       "      <td>100.0</td>\n",
       "      <td>75.0</td>\n",
       "      <td>31.25</td>\n",
       "      <td>75.0</td>\n",
       "      <td>100.0</td>\n",
       "      <td>Female</td>\n",
       "      <td>Humanities</td>\n",
       "      <td>23</td>\n",
       "    </tr>\n",
       "    <tr>\n",
       "      <th>3</th>\n",
       "      <td>1</td>\n",
       "      <td>20201113</td>\n",
       "      <td>9</td>\n",
       "      <td>0</td>\n",
       "      <td>286</td>\n",
       "      <td>Friday</td>\n",
       "      <td>Eating</td>\n",
       "      <td>with_others</td>\n",
       "      <td>100.0</td>\n",
       "      <td>75.0</td>\n",
       "      <td>31.25</td>\n",
       "      <td>75.0</td>\n",
       "      <td>100.0</td>\n",
       "      <td>Female</td>\n",
       "      <td>Humanities</td>\n",
       "      <td>23</td>\n",
       "    </tr>\n",
       "    <tr>\n",
       "      <th>4</th>\n",
       "      <td>1</td>\n",
       "      <td>20201113</td>\n",
       "      <td>10</td>\n",
       "      <td>0</td>\n",
       "      <td>897</td>\n",
       "      <td>Friday</td>\n",
       "      <td>Work/Study</td>\n",
       "      <td>Alone</td>\n",
       "      <td>100.0</td>\n",
       "      <td>75.0</td>\n",
       "      <td>31.25</td>\n",
       "      <td>75.0</td>\n",
       "      <td>100.0</td>\n",
       "      <td>Female</td>\n",
       "      <td>Humanities</td>\n",
       "      <td>23</td>\n",
       "    </tr>\n",
       "  </tbody>\n",
       "</table>\n",
       "</div>"
      ],
      "text/plain": [
       "   userid       day  hour  minute  touch_screen_events    week        what  \\\n",
       "0       1  20201113     0       0                   58  Friday       Other   \n",
       "1       1  20201113     0      30                   30  Friday       Other   \n",
       "2       1  20201113     8       0                    9  Friday       Other   \n",
       "3       1  20201113     9       0                  286  Friday      Eating   \n",
       "4       1  20201113    10       0                  897  Friday  Work/Study   \n",
       "\n",
       "         withw  Extraversion  Openness  Conscientiousness  Neuroticism  \\\n",
       "0        Alone         100.0      75.0              31.25         75.0   \n",
       "1        Alone         100.0      75.0              31.25         75.0   \n",
       "2        Alone         100.0      75.0              31.25         75.0   \n",
       "3  with_others         100.0      75.0              31.25         75.0   \n",
       "4        Alone         100.0      75.0              31.25         75.0   \n",
       "\n",
       "   Agreeableness  gender  department age  \n",
       "0          100.0  Female  Humanities  23  \n",
       "1          100.0  Female  Humanities  23  \n",
       "2          100.0  Female  Humanities  23  \n",
       "3          100.0  Female  Humanities  23  \n",
       "4          100.0  Female  Humanities  23  "
      ]
     },
     "execution_count": 29,
     "metadata": {},
     "output_type": "execute_result"
    }
   ],
   "source": [
    "merged_data.head()"
   ]
  },
  {
   "cell_type": "code",
   "execution_count": 20,
   "id": "5b9650a1",
   "metadata": {},
   "outputs": [
    {
     "name": "stdout",
     "output_type": "stream",
     "text": [
      " * sqlite:///project_sdl.db\n"
     ]
    }
   ],
   "source": [
    "%sql\n",
    "cur.execute(\"SELECT what, 2*AVG(touch_screen_events), COUNT(what)/2 FROM merged_data m GROUP BY what\")\n",
    "rowsa = cur.fetchall()"
   ]
  },
  {
   "cell_type": "markdown",
   "id": "e70197d9",
   "metadata": {},
   "source": [
    "By only taking half the activities I already count the number of hours.\n",
    "I want to plot activities by the number of touch screen per hour."
   ]
  },
  {
   "cell_type": "code",
   "execution_count": 172,
   "id": "c2823289",
   "metadata": {},
   "outputs": [
    {
     "data": {
      "text/html": [
       "<div>\n",
       "<style scoped>\n",
       "    .dataframe tbody tr th:only-of-type {\n",
       "        vertical-align: middle;\n",
       "    }\n",
       "\n",
       "    .dataframe tbody tr th {\n",
       "        vertical-align: top;\n",
       "    }\n",
       "\n",
       "    .dataframe thead th {\n",
       "        text-align: right;\n",
       "    }\n",
       "</style>\n",
       "<table border=\"1\" class=\"dataframe\">\n",
       "  <thead>\n",
       "    <tr style=\"text-align: right;\">\n",
       "      <th></th>\n",
       "      <th>Activity</th>\n",
       "      <th>touch_per_hour</th>\n",
       "      <th>occurrences</th>\n",
       "    </tr>\n",
       "  </thead>\n",
       "  <tbody>\n",
       "    <tr>\n",
       "      <th>0</th>\n",
       "      <td>Chores</td>\n",
       "      <td>417.332102</td>\n",
       "      <td>1353</td>\n",
       "    </tr>\n",
       "    <tr>\n",
       "      <th>1</th>\n",
       "      <td>Computer/TV/Phone</td>\n",
       "      <td>494.058462</td>\n",
       "      <td>4960</td>\n",
       "    </tr>\n",
       "    <tr>\n",
       "      <th>2</th>\n",
       "      <td>Eating</td>\n",
       "      <td>434.430313</td>\n",
       "      <td>5126</td>\n",
       "    </tr>\n",
       "    <tr>\n",
       "      <th>3</th>\n",
       "      <td>Free Time</td>\n",
       "      <td>442.257296</td>\n",
       "      <td>5208</td>\n",
       "    </tr>\n",
       "    <tr>\n",
       "      <th>4</th>\n",
       "      <td>Hobby &amp; Culture</td>\n",
       "      <td>407.222194</td>\n",
       "      <td>2000</td>\n",
       "    </tr>\n",
       "    <tr>\n",
       "      <th>5</th>\n",
       "      <td>Other</td>\n",
       "      <td>353.534865</td>\n",
       "      <td>3721</td>\n",
       "    </tr>\n",
       "    <tr>\n",
       "      <th>6</th>\n",
       "      <td>Rest</td>\n",
       "      <td>476.692355</td>\n",
       "      <td>3270</td>\n",
       "    </tr>\n",
       "    <tr>\n",
       "      <th>7</th>\n",
       "      <td>Social life</td>\n",
       "      <td>445.267765</td>\n",
       "      <td>1850</td>\n",
       "    </tr>\n",
       "    <tr>\n",
       "      <th>8</th>\n",
       "      <td>Travel</td>\n",
       "      <td>393.827398</td>\n",
       "      <td>1193</td>\n",
       "    </tr>\n",
       "    <tr>\n",
       "      <th>9</th>\n",
       "      <td>Work/Study</td>\n",
       "      <td>368.748146</td>\n",
       "      <td>7887</td>\n",
       "    </tr>\n",
       "  </tbody>\n",
       "</table>\n",
       "</div>"
      ],
      "text/plain": [
       "            Activity  touch_per_hour  occurrences\n",
       "0             Chores      417.332102         1353\n",
       "1  Computer/TV/Phone      494.058462         4960\n",
       "2             Eating      434.430313         5126\n",
       "3          Free Time      442.257296         5208\n",
       "4    Hobby & Culture      407.222194         2000\n",
       "5              Other      353.534865         3721\n",
       "6               Rest      476.692355         3270\n",
       "7        Social life      445.267765         1850\n",
       "8             Travel      393.827398         1193\n",
       "9         Work/Study      368.748146         7887"
      ]
     },
     "execution_count": 172,
     "metadata": {},
     "output_type": "execute_result"
    }
   ],
   "source": [
    "touch_by_activity = pd.DataFrame(rowsa, columns =['Activity', 'touch_per_hour','occurrences'])\n",
    "touch_by_activity"
   ]
  },
  {
   "cell_type": "code",
   "execution_count": 178,
   "id": "dbe42acc",
   "metadata": {},
   "outputs": [],
   "source": [
    "touch_by_activity = touch_by_activity.sort_values(by=[\"touch_per_hour\"], ascending=False).reset_index(drop=True)\n",
    "touch_by_activity.to_csv('touch_by_activity.csv', index=False)"
   ]
  },
  {
   "cell_type": "code",
   "execution_count": 23,
   "id": "a9e8dda0",
   "metadata": {
    "scrolled": true
   },
   "outputs": [
    {
     "data": {
      "image/png": "[encoded data removed]",
      "text/plain": [
       "<Figure size 1080x720 with 1 Axes>"
      ]
     },
     "metadata": {
      "needs_background": "light"
     },
     "output_type": "display_data"
    }
   ],
   "source": [
    "fig = plt.figure(figsize = (15, 10))\n",
    "g = sns.barplot(data=touch_by_activity, x=\"touch_per_hour\", y=\"Activity\", palette='RdYlGn')\n",
    "#g.set(ylim=(1500, 2500))\n",
    "plt.savefig('activity touch screen average.jpg')\n",
    "plt.xlabel('Average screen events by hour')\n",
    "plt.show()"
   ]
  },
  {
   "cell_type": "code",
   "execution_count": 24,
   "id": "b257d999",
   "metadata": {},
   "outputs": [
    {
     "name": "stdout",
     "output_type": "stream",
     "text": [
      " * sqlite:///project_sdl.db\n"
     ]
    }
   ],
   "source": [
    "%sql\n",
    "cur.execute(\"SELECT userid, SUM(touch_screen_events), count(touch_screen_events)/2 FROM merged_data m GROUP BY userid\")\n",
    "rows_id = cur.fetchall()"
   ]
  },
  {
   "cell_type": "code",
   "execution_count": 25,
   "id": "f7b8e2ad",
   "metadata": {},
   "outputs": [
    {
     "data": {
      "text/plain": [
       "[(1, 155604, 251),\n",
       " (2, 107607, 168),\n",
       " (3, 130294, 353),\n",
       " (4, 53693, 198),\n",
       " (5, 128051, 277),\n",
       " (6, 71480, 169),\n",
       " (7, 28665, 73),\n",
       " (8, 116838, 269),\n",
       " (9, 110810, 311),\n",
       " (10, 18674, 43),\n",
       " (12, 83879, 188),\n",
       " (13, 52425, 273),\n",
       " (15, 113060, 214),\n",
       " (18, 119462, 250),\n",
       " (19, 110295, 240),\n",
       " (20, 177437, 262),\n",
       " (21, 41265, 197),\n",
       " (22, 48787, 180),\n",
       " (23, 21399, 94),\n",
       " (26, 64951, 277),\n",
       " (27, 39, 1),\n",
       " (28, 66151, 170),\n",
       " (29, 28022, 68),\n",
       " (30, 59120, 308),\n",
       " (31, 56648, 143),\n",
       " (32, 143513, 204),\n",
       " (33, 70654, 270),\n",
       " (34, 182788, 312),\n",
       " (36, 7766, 10),\n",
       " (41, 50665, 92),\n",
       " (42, 54369, 155),\n",
       " (43, 28941, 103),\n",
       " (45, 99339, 298),\n",
       " (46, 6606, 16),\n",
       " (48, 121534, 221),\n",
       " (49, 78464, 130),\n",
       " (50, 187449, 302),\n",
       " (51, 45119, 132),\n",
       " (52, 25198, 148),\n",
       " (55, 106808, 259),\n",
       " (57, 106424, 281),\n",
       " (58, 124701, 175),\n",
       " (59, 155256, 332),\n",
       " (61, 37005, 119),\n",
       " (62, 45654, 210),\n",
       " (65, 51702, 269),\n",
       " (66, 195332, 260),\n",
       " (67, 14746, 33),\n",
       " (70, 138943, 265),\n",
       " (72, 42134, 113),\n",
       " (73, 78407, 173),\n",
       " (74, 101083, 203),\n",
       " (75, 199225, 382),\n",
       " (76, 86385, 266),\n",
       " (80, 56688, 208),\n",
       " (83, 54823, 283),\n",
       " (84, 131249, 323),\n",
       " (85, 18310, 72),\n",
       " (86, 893, 8),\n",
       " (87, 62176, 284),\n",
       " (89, 82800, 199),\n",
       " (91, 74005, 241),\n",
       " (92, 89707, 220),\n",
       " (93, 4188, 23),\n",
       " (95, 106202, 217),\n",
       " (96, 71969, 150),\n",
       " (97, 72938, 284),\n",
       " (100, 104595, 212),\n",
       " (101, 13419, 44),\n",
       " (105, 92699, 352),\n",
       " (107, 70618, 311),\n",
       " (109, 124593, 275),\n",
       " (110, 2642, 16),\n",
       " (112, 14, 1),\n",
       " (113, 32928, 146),\n",
       " (114, 102193, 298),\n",
       " (115, 31715, 116),\n",
       " (116, 8813, 7),\n",
       " (117, 1938, 12),\n",
       " (118, 120436, 264),\n",
       " (119, 181679, 252),\n",
       " (120, 83329, 189),\n",
       " (122, 200, 0),\n",
       " (123, 12716, 46),\n",
       " (124, 45958, 221),\n",
       " (125, 44555, 54),\n",
       " (126, 104757, 198),\n",
       " (127, 52057, 130),\n",
       " (128, 61739, 196),\n",
       " (130, 67014, 170),\n",
       " (131, 110636, 273),\n",
       " (132, 56041, 318),\n",
       " (134, 108673, 279),\n",
       " (135, 37860, 88),\n",
       " (136, 107307, 248),\n",
       " (137, 104601, 286),\n",
       " (140, 23880, 50),\n",
       " (141, 103050, 235),\n",
       " (144, 34833, 158),\n",
       " (146, 86770, 215),\n",
       " (148, 94480, 228),\n",
       " (151, 99638, 190),\n",
       " (153, 139003, 297),\n",
       " (155, 37470, 152),\n",
       " (156, 1989, 5),\n",
       " (157, 51374, 165),\n",
       " (158, 91225, 225),\n",
       " (159, 12054, 44),\n",
       " (160, 75566, 317),\n",
       " (161, 176408, 256),\n",
       " (162, 39485, 93),\n",
       " (163, 99866, 273),\n",
       " (164, 7811, 20),\n",
       " (165, 115306, 139),\n",
       " (166, 86462, 215),\n",
       " (167, 154490, 292),\n",
       " (169, 105919, 253),\n",
       " (172, 29849, 67),\n",
       " (174, 140795, 258),\n",
       " (176, 122450, 266),\n",
       " (177, 53922, 250),\n",
       " (178, 26704, 67),\n",
       " (179, 53690, 81),\n",
       " (180, 24993, 40),\n",
       " (182, 79212, 230),\n",
       " (184, 6698, 31),\n",
       " (185, 56430, 369),\n",
       " (187, 108218, 226),\n",
       " (188, 92332, 228),\n",
       " (189, 1572, 3),\n",
       " (190, 65866, 243),\n",
       " (191, 174459, 255),\n",
       " (193, 51352, 98),\n",
       " (194, 54689, 186),\n",
       " (196, 71629, 322),\n",
       " (197, 119909, 250),\n",
       " (198, 243980, 369),\n",
       " (199, 61925, 100),\n",
       " (200, 77929, 268),\n",
       " (203, 257824, 348),\n",
       " (204, 161535, 304),\n",
       " (205, 5300, 19),\n",
       " (206, 91541, 278),\n",
       " (207, 141575, 204),\n",
       " (208, 55510, 271),\n",
       " (209, 95603, 226),\n",
       " (210, 72685, 321),\n",
       " (212, 183339, 260),\n",
       " (213, 159549, 255),\n",
       " (215, 72292, 189),\n",
       " (216, 77921, 256),\n",
       " (219, 90321, 196),\n",
       " (220, 7279, 24),\n",
       " (222, 204826, 264),\n",
       " (223, 73177, 210),\n",
       " (224, 54519, 193),\n",
       " (225, 103041, 267),\n",
       " (226, 137544, 271),\n",
       " (228, 33107, 71),\n",
       " (229, 146875, 205),\n",
       " (230, 83182, 222),\n",
       " (231, 91610, 238),\n",
       " (232, 39370, 99),\n",
       " (233, 22288, 122),\n",
       " (234, 29243, 69),\n",
       " (235, 11361, 32),\n",
       " (236, 183653, 259),\n",
       " (237, 51263, 118),\n",
       " (238, 144928, 284),\n",
       " (239, 47694, 140),\n",
       " (240, 114692, 286),\n",
       " (241, 78214, 102),\n",
       " (243, 122358, 235),\n",
       " (244, 72650, 209),\n",
       " (245, 94197, 154),\n",
       " (247, 11736, 50),\n",
       " (248, 101244, 278),\n",
       " (251, 173491, 228),\n",
       " (252, 64224, 316),\n",
       " (253, 101132, 209),\n",
       " (254, 116448, 282),\n",
       " (255, 145241, 234),\n",
       " (256, 100641, 247),\n",
       " (259, 158402, 305),\n",
       " (260, 49096, 247),\n",
       " (261, 12685, 51),\n",
       " (262, 97222, 286),\n",
       " (264, 214792, 231),\n",
       " (265, 60992, 114)]"
      ]
     },
     "execution_count": 25,
     "metadata": {},
     "output_type": "execute_result"
    }
   ],
   "source": [
    "rows_id"
   ]
  },
  {
   "cell_type": "code",
   "execution_count": 174,
   "id": "9f371cf7",
   "metadata": {},
   "outputs": [],
   "source": [
    "touch_by_id = pd.DataFrame(rows_id, columns =['userid', 'total_touch_screen_events', 'hours'])\n",
    "touch_by_id['hour_average'] = touch_by_id['total_touch_screen_events']/touch_by_id['hours']\n",
    "touch_by_id = touch_by_id.sort_values(by=[\"hour_average\"], ascending=False).reset_index(drop=True)\n",
    "pd.set_option('mode.use_inf_as_na', True)\n",
    "touch_by_id.dropna(inplace=True)\n",
    "touch_by_id.to_csv('touch_by_id.csv', index=False)"
   ]
  },
  {
   "cell_type": "code",
   "execution_count": 10,
   "id": "18735709",
   "metadata": {},
   "outputs": [
    {
     "data": {
      "text/html": [
       "<div>\n",
       "<style scoped>\n",
       "    .dataframe tbody tr th:only-of-type {\n",
       "        vertical-align: middle;\n",
       "    }\n",
       "\n",
       "    .dataframe tbody tr th {\n",
       "        vertical-align: top;\n",
       "    }\n",
       "\n",
       "    .dataframe thead th {\n",
       "        text-align: right;\n",
       "    }\n",
       "</style>\n",
       "<table border=\"1\" class=\"dataframe\">\n",
       "  <thead>\n",
       "    <tr style=\"text-align: right;\">\n",
       "      <th></th>\n",
       "      <th>userid</th>\n",
       "      <th>total_touch_screen_events</th>\n",
       "      <th>hours</th>\n",
       "      <th>hour_average</th>\n",
       "    </tr>\n",
       "  </thead>\n",
       "  <tbody>\n",
       "    <tr>\n",
       "      <th>0</th>\n",
       "      <td>116</td>\n",
       "      <td>8813</td>\n",
       "      <td>7</td>\n",
       "      <td>1259.000000</td>\n",
       "    </tr>\n",
       "    <tr>\n",
       "      <th>1</th>\n",
       "      <td>264</td>\n",
       "      <td>214792</td>\n",
       "      <td>231</td>\n",
       "      <td>929.835498</td>\n",
       "    </tr>\n",
       "    <tr>\n",
       "      <th>2</th>\n",
       "      <td>165</td>\n",
       "      <td>115306</td>\n",
       "      <td>139</td>\n",
       "      <td>829.539568</td>\n",
       "    </tr>\n",
       "    <tr>\n",
       "      <th>3</th>\n",
       "      <td>125</td>\n",
       "      <td>44555</td>\n",
       "      <td>54</td>\n",
       "      <td>825.092593</td>\n",
       "    </tr>\n",
       "    <tr>\n",
       "      <th>4</th>\n",
       "      <td>36</td>\n",
       "      <td>7766</td>\n",
       "      <td>10</td>\n",
       "      <td>776.600000</td>\n",
       "    </tr>\n",
       "  </tbody>\n",
       "</table>\n",
       "</div>"
      ],
      "text/plain": [
       "   userid  total_touch_screen_events  hours  hour_average\n",
       "0     116                       8813      7   1259.000000\n",
       "1     264                     214792    231    929.835498\n",
       "2     165                     115306    139    829.539568\n",
       "3     125                      44555     54    825.092593\n",
       "4      36                       7766     10    776.600000"
      ]
     },
     "execution_count": 10,
     "metadata": {},
     "output_type": "execute_result"
    }
   ],
   "source": [
    "touch_by_id = pd.read_csv('touch_by_id.csv')\n",
    "touch_by_id.head()"
   ]
  },
  {
   "cell_type": "markdown",
   "id": "e00074c8",
   "metadata": {},
   "source": [
    "Since one resulted to be infinite I excluded all rows which reported infinite.\n",
    "Now, my data will be split in three even groups."
   ]
  },
  {
   "cell_type": "code",
   "execution_count": 11,
   "id": "eded1ffa",
   "metadata": {},
   "outputs": [],
   "source": [
    "group = []\n",
    "\n",
    "for i in range(len(touch_by_id)):\n",
    "    if i < len(touch_by_id)/3:\n",
    "        group.append('Group 1')\n",
    "    elif i < 2*len(touch_by_id)/3:\n",
    "        group.append('Group 2')\n",
    "    else:\n",
    "        group.append('Group 3')"
   ]
  },
  {
   "cell_type": "code",
   "execution_count": 12,
   "id": "a3e56d98",
   "metadata": {},
   "outputs": [],
   "source": [
    "touch_by_id['group'] = group"
   ]
  },
  {
   "cell_type": "markdown",
   "id": "6106d2d9",
   "metadata": {},
   "source": [
    "I want to only describe these users, so I merge the data with the already recoded sociodemographic dataframe."
   ]
  },
  {
   "cell_type": "code",
   "execution_count": 13,
   "id": "ccfc842d",
   "metadata": {},
   "outputs": [],
   "source": [
    "individuals = pd.read_csv('individuals.csv')"
   ]
  },
  {
   "cell_type": "code",
   "execution_count": 14,
   "id": "093d0b8a",
   "metadata": {},
   "outputs": [
    {
     "data": {
      "text/html": [
       "<div>\n",
       "<style scoped>\n",
       "    .dataframe tbody tr th:only-of-type {\n",
       "        vertical-align: middle;\n",
       "    }\n",
       "\n",
       "    .dataframe tbody tr th {\n",
       "        vertical-align: top;\n",
       "    }\n",
       "\n",
       "    .dataframe thead th {\n",
       "        text-align: right;\n",
       "    }\n",
       "</style>\n",
       "<table border=\"1\" class=\"dataframe\">\n",
       "  <thead>\n",
       "    <tr style=\"text-align: right;\">\n",
       "      <th></th>\n",
       "      <th>userid</th>\n",
       "      <th>Extraversion</th>\n",
       "      <th>Openness</th>\n",
       "      <th>Conscientiousness</th>\n",
       "      <th>Neuroticism</th>\n",
       "      <th>Agreeableness</th>\n",
       "      <th>gender</th>\n",
       "      <th>department</th>\n",
       "      <th>age</th>\n",
       "    </tr>\n",
       "  </thead>\n",
       "  <tbody>\n",
       "    <tr>\n",
       "      <th>0</th>\n",
       "      <td>0</td>\n",
       "      <td>68.75</td>\n",
       "      <td>87.50</td>\n",
       "      <td>93.75</td>\n",
       "      <td>50.00</td>\n",
       "      <td>87.50</td>\n",
       "      <td>Female</td>\n",
       "      <td>Engineering and Applied Sciences</td>\n",
       "      <td>24</td>\n",
       "    </tr>\n",
       "    <tr>\n",
       "      <th>1</th>\n",
       "      <td>1</td>\n",
       "      <td>100.00</td>\n",
       "      <td>75.00</td>\n",
       "      <td>31.25</td>\n",
       "      <td>75.00</td>\n",
       "      <td>100.00</td>\n",
       "      <td>Female</td>\n",
       "      <td>Humanities</td>\n",
       "      <td>23</td>\n",
       "    </tr>\n",
       "    <tr>\n",
       "      <th>2</th>\n",
       "      <td>10</td>\n",
       "      <td>62.50</td>\n",
       "      <td>87.50</td>\n",
       "      <td>62.50</td>\n",
       "      <td>37.50</td>\n",
       "      <td>81.25</td>\n",
       "      <td>Male</td>\n",
       "      <td>Agricultural</td>\n",
       "      <td>20</td>\n",
       "    </tr>\n",
       "    <tr>\n",
       "      <th>3</th>\n",
       "      <td>100</td>\n",
       "      <td>18.75</td>\n",
       "      <td>50.00</td>\n",
       "      <td>81.25</td>\n",
       "      <td>6.25</td>\n",
       "      <td>87.50</td>\n",
       "      <td>Female</td>\n",
       "      <td>Social Sciences</td>\n",
       "      <td>19</td>\n",
       "    </tr>\n",
       "    <tr>\n",
       "      <th>4</th>\n",
       "      <td>101</td>\n",
       "      <td>50.00</td>\n",
       "      <td>56.25</td>\n",
       "      <td>62.50</td>\n",
       "      <td>18.75</td>\n",
       "      <td>68.75</td>\n",
       "      <td>Female</td>\n",
       "      <td>Law</td>\n",
       "      <td>24</td>\n",
       "    </tr>\n",
       "  </tbody>\n",
       "</table>\n",
       "</div>"
      ],
      "text/plain": [
       "   userid  Extraversion  Openness  Conscientiousness  Neuroticism  \\\n",
       "0       0         68.75     87.50              93.75        50.00   \n",
       "1       1        100.00     75.00              31.25        75.00   \n",
       "2      10         62.50     87.50              62.50        37.50   \n",
       "3     100         18.75     50.00              81.25         6.25   \n",
       "4     101         50.00     56.25              62.50        18.75   \n",
       "\n",
       "   Agreeableness  gender                        department age  \n",
       "0          87.50  Female  Engineering and Applied Sciences  24  \n",
       "1         100.00  Female                        Humanities  23  \n",
       "2          81.25    Male                      Agricultural  20  \n",
       "3          87.50  Female                   Social Sciences  19  \n",
       "4          68.75  Female                               Law  24  "
      ]
     },
     "execution_count": 14,
     "metadata": {},
     "output_type": "execute_result"
    }
   ],
   "source": [
    "individuals.head()"
   ]
  },
  {
   "cell_type": "code",
   "execution_count": 15,
   "id": "c725d6d8",
   "metadata": {},
   "outputs": [],
   "source": [
    "touch_by_id = pd.merge(touch_by_id, individuals, left_on=['userid'], right_on=['userid'], how='inner')"
   ]
  },
  {
   "cell_type": "code",
   "execution_count": 16,
   "id": "4eece216",
   "metadata": {},
   "outputs": [
    {
     "data": {
      "text/html": [
       "<div>\n",
       "<style scoped>\n",
       "    .dataframe tbody tr th:only-of-type {\n",
       "        vertical-align: middle;\n",
       "    }\n",
       "\n",
       "    .dataframe tbody tr th {\n",
       "        vertical-align: top;\n",
       "    }\n",
       "\n",
       "    .dataframe thead th {\n",
       "        text-align: right;\n",
       "    }\n",
       "</style>\n",
       "<table border=\"1\" class=\"dataframe\">\n",
       "  <thead>\n",
       "    <tr style=\"text-align: right;\">\n",
       "      <th></th>\n",
       "      <th>userid</th>\n",
       "      <th>total_touch_screen_events</th>\n",
       "      <th>hours</th>\n",
       "      <th>hour_average</th>\n",
       "      <th>group</th>\n",
       "      <th>Extraversion</th>\n",
       "      <th>Openness</th>\n",
       "      <th>Conscientiousness</th>\n",
       "      <th>Neuroticism</th>\n",
       "      <th>Agreeableness</th>\n",
       "      <th>gender</th>\n",
       "      <th>department</th>\n",
       "      <th>age</th>\n",
       "    </tr>\n",
       "  </thead>\n",
       "  <tbody>\n",
       "    <tr>\n",
       "      <th>0</th>\n",
       "      <td>116</td>\n",
       "      <td>8813</td>\n",
       "      <td>7</td>\n",
       "      <td>1259.000000</td>\n",
       "      <td>Group 1</td>\n",
       "      <td>37.5</td>\n",
       "      <td>68.75</td>\n",
       "      <td>93.75</td>\n",
       "      <td>25.00</td>\n",
       "      <td>75.00</td>\n",
       "      <td>Male</td>\n",
       "      <td>Business/economics</td>\n",
       "      <td>31+</td>\n",
       "    </tr>\n",
       "    <tr>\n",
       "      <th>1</th>\n",
       "      <td>264</td>\n",
       "      <td>214792</td>\n",
       "      <td>231</td>\n",
       "      <td>929.835498</td>\n",
       "      <td>Group 1</td>\n",
       "      <td>100.0</td>\n",
       "      <td>93.75</td>\n",
       "      <td>68.75</td>\n",
       "      <td>37.50</td>\n",
       "      <td>93.75</td>\n",
       "      <td>Female</td>\n",
       "      <td>Law</td>\n",
       "      <td>20</td>\n",
       "    </tr>\n",
       "    <tr>\n",
       "      <th>2</th>\n",
       "      <td>165</td>\n",
       "      <td>115306</td>\n",
       "      <td>139</td>\n",
       "      <td>829.539568</td>\n",
       "      <td>Group 1</td>\n",
       "      <td>37.5</td>\n",
       "      <td>68.75</td>\n",
       "      <td>81.25</td>\n",
       "      <td>75.00</td>\n",
       "      <td>75.00</td>\n",
       "      <td>Female</td>\n",
       "      <td>Engineering and Applied Sciences</td>\n",
       "      <td>23</td>\n",
       "    </tr>\n",
       "    <tr>\n",
       "      <th>3</th>\n",
       "      <td>125</td>\n",
       "      <td>44555</td>\n",
       "      <td>54</td>\n",
       "      <td>825.092593</td>\n",
       "      <td>Group 1</td>\n",
       "      <td>NaN</td>\n",
       "      <td>NaN</td>\n",
       "      <td>NaN</td>\n",
       "      <td>68.75</td>\n",
       "      <td>NaN</td>\n",
       "      <td>Male</td>\n",
       "      <td>Agricultural</td>\n",
       "      <td>20</td>\n",
       "    </tr>\n",
       "    <tr>\n",
       "      <th>4</th>\n",
       "      <td>36</td>\n",
       "      <td>7766</td>\n",
       "      <td>10</td>\n",
       "      <td>776.600000</td>\n",
       "      <td>Group 1</td>\n",
       "      <td>87.5</td>\n",
       "      <td>56.25</td>\n",
       "      <td>43.75</td>\n",
       "      <td>50.00</td>\n",
       "      <td>87.50</td>\n",
       "      <td>Female</td>\n",
       "      <td>Law</td>\n",
       "      <td>24</td>\n",
       "    </tr>\n",
       "  </tbody>\n",
       "</table>\n",
       "</div>"
      ],
      "text/plain": [
       "   userid  total_touch_screen_events  hours  hour_average    group  \\\n",
       "0     116                       8813      7   1259.000000  Group 1   \n",
       "1     264                     214792    231    929.835498  Group 1   \n",
       "2     165                     115306    139    829.539568  Group 1   \n",
       "3     125                      44555     54    825.092593  Group 1   \n",
       "4      36                       7766     10    776.600000  Group 1   \n",
       "\n",
       "   Extraversion  Openness  Conscientiousness  Neuroticism  Agreeableness  \\\n",
       "0          37.5     68.75              93.75        25.00          75.00   \n",
       "1         100.0     93.75              68.75        37.50          93.75   \n",
       "2          37.5     68.75              81.25        75.00          75.00   \n",
       "3           NaN       NaN                NaN        68.75            NaN   \n",
       "4          87.5     56.25              43.75        50.00          87.50   \n",
       "\n",
       "   gender                        department  age  \n",
       "0    Male                Business/economics  31+  \n",
       "1  Female                               Law   20  \n",
       "2  Female  Engineering and Applied Sciences   23  \n",
       "3    Male                      Agricultural   20  \n",
       "4  Female                               Law   24  "
      ]
     },
     "execution_count": 16,
     "metadata": {},
     "output_type": "execute_result"
    }
   ],
   "source": [
    "touch_by_id.head()"
   ]
  },
  {
   "cell_type": "code",
   "execution_count": 109,
   "id": "1bfcd711",
   "metadata": {},
   "outputs": [
    {
     "name": "stdout",
     "output_type": "stream",
     "text": [
      "<class 'pandas.core.frame.DataFrame'>\n",
      "Int64Index: 188 entries, 0 to 187\n",
      "Data columns (total 13 columns):\n",
      " #   Column                     Non-Null Count  Dtype  \n",
      "---  ------                     --------------  -----  \n",
      " 0   userid                     188 non-null    int64  \n",
      " 1   total_touch_screen_events  188 non-null    int64  \n",
      " 2   hours                      188 non-null    int64  \n",
      " 3   hour_average               188 non-null    float64\n",
      " 4   group                      188 non-null    int64  \n",
      " 5   Extraversion               186 non-null    float64\n",
      " 6   Openness                   187 non-null    float64\n",
      " 7   Conscientiousness          187 non-null    float64\n",
      " 8   Neuroticism                187 non-null    float64\n",
      " 9   Agreeableness              187 non-null    float64\n",
      " 10  gender                     188 non-null    object \n",
      " 11  department                 187 non-null    object \n",
      " 12  age                        188 non-null    object \n",
      "dtypes: float64(6), int64(4), object(3)\n",
      "memory usage: 20.6+ KB\n"
     ]
    }
   ],
   "source": [
    "touch_by_id.info()"
   ]
  },
  {
   "cell_type": "markdown",
   "id": "9ae598fd",
   "metadata": {},
   "source": [
    "I plot the box plot for each of the big 5 personality traits within each of the 3 groups."
   ]
  },
  {
   "cell_type": "code",
   "execution_count": 7,
   "id": "dc98c050",
   "metadata": {},
   "outputs": [],
   "source": [
    "touch_by_id = pd.read_csv('touch_by_id.csv')"
   ]
  },
  {
   "cell_type": "code",
   "execution_count": 18,
   "id": "c5588d89",
   "metadata": {},
   "outputs": [],
   "source": [
    "touch_by_id = touch_by_id.dropna()"
   ]
  },
  {
   "cell_type": "code",
   "execution_count": 19,
   "id": "fa306dd2",
   "metadata": {},
   "outputs": [],
   "source": [
    "Group_1 = touch_by_id[touch_by_id.group=='Group 1']\n",
    "Group_2 = touch_by_id[touch_by_id.group=='Group 2']\n",
    "Group_3 = touch_by_id[touch_by_id.group=='Group 3'] "
   ]
  },
  {
   "cell_type": "code",
   "execution_count": 20,
   "id": "46992ebd",
   "metadata": {},
   "outputs": [
    {
     "data": {
      "image/png": "[encoded data removed]",
      "text/plain": [
       "<Figure size 216x144 with 1 Axes>"
      ]
     },
     "metadata": {
      "needs_background": "light"
     },
     "output_type": "display_data"
    }
   ],
   "source": [
    "fig = plt.figure(figsize = (3,2))\n",
    "ax = sns.boxplot(y='Extraversion', x='group',  hue='group',data=touch_by_id, palette=\"Greens\")\n",
    "plt.legend([],[],frameon=False)\n",
    "ax.set(xlabel=None)\n",
    "plt.title('Extraversion for each tertile')\n",
    "plt.savefig('Extraversion.jpg')\n",
    "plt.show()"
   ]
  },
  {
   "cell_type": "code",
   "execution_count": 21,
   "id": "1f70dcaf",
   "metadata": {},
   "outputs": [
    {
     "data": {
      "text/plain": [
       "F_onewayResult(statistic=2.6893849173286712, pvalue=0.07063714264888497)"
      ]
     },
     "execution_count": 21,
     "metadata": {},
     "output_type": "execute_result"
    }
   ],
   "source": [
    "f_oneway(list(Group_1.Extraversion), list(Group_2.Extraversion), list(Group_3.Extraversion))"
   ]
  },
  {
   "cell_type": "code",
   "execution_count": 27,
   "id": "d2bc02ee",
   "metadata": {},
   "outputs": [
    {
     "data": {
      "image/png": "[encoded data removed]",
      "text/plain": [
       "<Figure size 216x144 with 1 Axes>"
      ]
     },
     "metadata": {
      "needs_background": "light"
     },
     "output_type": "display_data"
    }
   ],
   "source": [
    "fig = plt.figure(figsize = (3,2))\n",
    "ax = sns.boxplot(y='Neuroticism', x='group',  data=touch_by_id, palette=\"Greys\",\n",
    "                 hue='group')\n",
    "plt.legend([],[],frameon=False)\n",
    "ax.set(xlabel=None)\n",
    "plt.title('Neuroticism for each tertile')\n",
    "plt.savefig('Neuroticism.jpg')\n",
    "plt.show()"
   ]
  },
  {
   "cell_type": "code",
   "execution_count": 22,
   "id": "74f7d2c0",
   "metadata": {},
   "outputs": [
    {
     "data": {
      "text/plain": [
       "F_onewayResult(statistic=1.3077379258629342, pvalue=0.27297379641814634)"
      ]
     },
     "execution_count": 22,
     "metadata": {},
     "output_type": "execute_result"
    }
   ],
   "source": [
    "f_oneway(list(Group_1.Neuroticism), list(Group_2.Neuroticism), list(Group_3.Neuroticism))"
   ]
  },
  {
   "cell_type": "code",
   "execution_count": 28,
   "id": "eaa6b7d8",
   "metadata": {},
   "outputs": [
    {
     "data": {
      "image/png": "[encoded data removed]",
      "text/plain": [
       "<Figure size 216x144 with 1 Axes>"
      ]
     },
     "metadata": {
      "needs_background": "light"
     },
     "output_type": "display_data"
    }
   ],
   "source": [
    "fig = plt.figure(figsize = (3,2))\n",
    "ax = sns.boxplot(y='Openness', x='group',  data=touch_by_id, palette=\"YlOrBr\",\n",
    "                 hue='group')\n",
    "plt.legend([],[],frameon=False)\n",
    "ax.set(xlabel=None)\n",
    "plt.title('Openness for each tertile')\n",
    "plt.savefig('Openness.jpg')\n",
    "plt.show()"
   ]
  },
  {
   "cell_type": "code",
   "execution_count": 23,
   "id": "5aea3730",
   "metadata": {},
   "outputs": [
    {
     "data": {
      "text/plain": [
       "F_onewayResult(statistic=0.07188025847255529, pvalue=0.930668877829576)"
      ]
     },
     "execution_count": 23,
     "metadata": {},
     "output_type": "execute_result"
    }
   ],
   "source": [
    "f_oneway(list(Group_1.Openness), list(Group_2.Openness), list(Group_3.Openness))"
   ]
  },
  {
   "cell_type": "code",
   "execution_count": 29,
   "id": "fad319c1",
   "metadata": {},
   "outputs": [
    {
     "data": {
      "image/png": "[encoded data removed]",
      "text/plain": [
       "<Figure size 216x144 with 1 Axes>"
      ]
     },
     "metadata": {
      "needs_background": "light"
     },
     "output_type": "display_data"
    }
   ],
   "source": [
    "fig = plt.figure(figsize = (3,2))\n",
    "ax = sns.boxplot(y='Agreeableness', x='group',  data=touch_by_id, palette=\"Purples\",\n",
    "                 hue='group')\n",
    "plt.legend([],[],frameon=False)\n",
    "ax.set(xlabel=None)\n",
    "plt.title('Agreeableness for each tertile')\n",
    "plt.savefig('Agreeableness.jpg')\n",
    "plt.show()"
   ]
  },
  {
   "cell_type": "code",
   "execution_count": 24,
   "id": "e04ae5d6",
   "metadata": {},
   "outputs": [
    {
     "data": {
      "text/plain": [
       "F_onewayResult(statistic=1.2574191610659773, pvalue=0.286859174331112)"
      ]
     },
     "execution_count": 24,
     "metadata": {},
     "output_type": "execute_result"
    }
   ],
   "source": [
    "f_oneway(list(Group_1.Agreeableness), list(Group_2.Agreeableness), list(Group_3.Agreeableness))"
   ]
  },
  {
   "cell_type": "code",
   "execution_count": 30,
   "id": "6f41a4e9",
   "metadata": {},
   "outputs": [
    {
     "data": {
      "image/png": "[encoded data removed]",
      "text/plain": [
       "<Figure size 216x144 with 1 Axes>"
      ]
     },
     "metadata": {
      "needs_background": "light"
     },
     "output_type": "display_data"
    }
   ],
   "source": [
    "fig = plt.figure(figsize = (3,2))\n",
    "ax = sns.boxplot(y='Conscientiousness', x='group',  data=touch_by_id, palette=\"crest\",\n",
    "                 hue='group')\n",
    "plt.legend([],[],frameon=False)\n",
    "ax.set(xlabel=None)\n",
    "plt.title('Conscientiousness for each tertile')\n",
    "plt.savefig('Conscientiousness.jpg')\n",
    "plt.show()"
   ]
  },
  {
   "cell_type": "code",
   "execution_count": 25,
   "id": "1231154b",
   "metadata": {},
   "outputs": [
    {
     "data": {
      "text/plain": [
       "F_onewayResult(statistic=0.4715157431933381, pvalue=0.624820002591717)"
      ]
     },
     "execution_count": 25,
     "metadata": {},
     "output_type": "execute_result"
    }
   ],
   "source": [
    "f_oneway(list(Group_1.Conscientiousness), list(Group_2.Conscientiousness), list(Group_3.Conscientiousness))"
   ]
  },
  {
   "cell_type": "code",
   "execution_count": 22,
   "id": "cdced411",
   "metadata": {},
   "outputs": [
    {
     "data": {
      "text/plain": [
       "group    gender\n",
       "Group 1  Female    38\n",
       "         Male      25\n",
       "Group 2  Female    38\n",
       "         Male      25\n",
       "Group 3  Female    35\n",
       "         Male      27\n",
       "dtype: int64"
      ]
     },
     "execution_count": 22,
     "metadata": {},
     "output_type": "execute_result"
    }
   ],
   "source": [
    "grouped = touch_by_id.groupby(['group', 'gender'])\n",
    "grouped.size()"
   ]
  },
  {
   "cell_type": "markdown",
   "id": "3d805c20",
   "metadata": {},
   "source": [
    "There seem to be no trends involving gender, the distribution is equal; do note that more females participated in the data collection, hence why the higher number in all categories.\n",
    "\n",
    "Now, a two-way table of departments divided by groups, but first I recode the names."
   ]
  },
  {
   "cell_type": "code",
   "execution_count": 57,
   "id": "8b157b8f",
   "metadata": {},
   "outputs": [],
   "source": [
    "touch_by_id.department = touch_by_id.department.replace({\"Business/economics\": \"Business\", \"Medicine and veterinary medicine\": \"Medicine \",\n",
    "                                                        'International Relations and Public Administration':'International Relations'})"
   ]
  },
  {
   "cell_type": "code",
   "execution_count": 58,
   "id": "f718aeda",
   "metadata": {},
   "outputs": [
    {
     "data": {
      "text/plain": [
       "department                        group\n",
       "Agricultural                      1         1\n",
       "                                  2         1\n",
       "Business                          1         8\n",
       "                                  2         7\n",
       "                                  3         8\n",
       "Engineering and Applied Sciences  1        11\n",
       "                                  2        18\n",
       "                                  3        15\n",
       "Humanities                        1         6\n",
       "                                  2         4\n",
       "                                  3         6\n",
       "International Relations           2         1\n",
       "                                  3         1\n",
       "Law                               1        10\n",
       "                                  2         6\n",
       "                                  3         9\n",
       "Medicine                          1         3\n",
       "                                  2         3\n",
       "Natural Sciences                  1         5\n",
       "                                  2         9\n",
       "                                  3        12\n",
       "Social Sciences                   1        18\n",
       "                                  2        14\n",
       "                                  3        11\n",
       "dtype: int64"
      ]
     },
     "execution_count": 58,
     "metadata": {},
     "output_type": "execute_result"
    }
   ],
   "source": [
    "grouped = touch_by_id.groupby(['department', 'group'])\n",
    "grouped.size()"
   ]
  },
  {
   "cell_type": "code",
   "execution_count": 5,
   "id": "efe606c2",
   "metadata": {},
   "outputs": [
    {
     "ename": "NameError",
     "evalue": "name 'touch_by_id' is not defined",
     "output_type": "error",
     "traceback": [
      "\u001b[1;31m---------------------------------------------------------------------------\u001b[0m",
      "\u001b[1;31mNameError\u001b[0m                                 Traceback (most recent call last)",
      "\u001b[1;32m<ipython-input-5-705e7d61207d>\u001b[0m in \u001b[0;36m<module>\u001b[1;34m\u001b[0m\n\u001b[1;32m----> 1\u001b[1;33m \u001b[0mtouch_by_id\u001b[0m\u001b[1;33m.\u001b[0m\u001b[0mto_csv\u001b[0m\u001b[1;33m(\u001b[0m\u001b[1;34m'touch_by_id.csv'\u001b[0m\u001b[1;33m,\u001b[0m \u001b[0mindex\u001b[0m\u001b[1;33m=\u001b[0m\u001b[1;32mFalse\u001b[0m\u001b[1;33m)\u001b[0m\u001b[1;33m\u001b[0m\u001b[1;33m\u001b[0m\u001b[0m\n\u001b[0m\u001b[0;32m      2\u001b[0m \u001b[1;31m#touch_by_id = pd.read_csv('touch_by_id.csv')\u001b[0m\u001b[1;33m\u001b[0m\u001b[1;33m\u001b[0m\u001b[1;33m\u001b[0m\u001b[0m\n",
      "\u001b[1;31mNameError\u001b[0m: name 'touch_by_id' is not defined"
     ]
    }
   ],
   "source": [
    "touch_by_id.to_csv('touch_by_id.csv', index=False)\n",
    "#touch_by_id = pd.read_csv('touch_by_id.csv')"
   ]
  }
 ],
 "metadata": {
  "kernelspec": {
   "display_name": "Python 3",
   "language": "python",
   "name": "python3"
  },
  "language_info": {
   "codemirror_mode": {
    "name": "ipython",
    "version": 3
   },
   "file_extension": ".py",
   "mimetype": "text/x-python",
   "name": "python",
   "nbconvert_exporter": "python",
   "pygments_lexer": "ipython3",
   "version": "3.8.8"
  }
 },
 "nbformat": 4,
 "nbformat_minor": 5
}
